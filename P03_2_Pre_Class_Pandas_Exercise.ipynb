{
 "cells": [
  {
   "cell_type": "code",
   "execution_count": 1,
   "metadata": {},
   "outputs": [],
   "source": [
    "%matplotlib inline\n",
    "import pandas as pd"
   ]
  },
  {
   "cell_type": "code",
   "execution_count": 2,
   "metadata": {},
   "outputs": [
    {
     "data": {
      "text/html": [
       "<style>body {\n",
       "    margin: 0;\n",
       "    font-family: Helvetica;\n",
       "}\n",
       "table.dataframe {\n",
       "    border-collapse: collapse;\n",
       "    border: none;\n",
       "}\n",
       "table.dataframe tr {\n",
       "    border: none;\n",
       "}\n",
       "table.dataframe td, table.dataframe th {\n",
       "    margin: 0;\n",
       "    border: 1px solid white;\n",
       "    padding-left: 0.25em;\n",
       "    padding-right: 0.25em;\n",
       "}\n",
       "table.dataframe th:not(:empty) {\n",
       "    background-color: #fec;\n",
       "    text-align: left;\n",
       "    font-weight: normal;\n",
       "}\n",
       "table.dataframe tr:nth-child(2) th:empty {\n",
       "    border-left: none;\n",
       "    border-right: 1px dashed #888;\n",
       "}\n",
       "table.dataframe td {\n",
       "    border: 2px solid #ccf;\n",
       "    background-color: #f4f4ff;\n",
       "}\n",
       "h3 {\n",
       "    color: white;\n",
       "    background-color: black;\n",
       "    padding: 0.5em;\n",
       "}\n",
       "</style>"
      ],
      "text/plain": [
       "<IPython.core.display.HTML object>"
      ]
     },
     "execution_count": 2,
     "metadata": {},
     "output_type": "execute_result"
    }
   ],
   "source": [
    "from IPython.core.display import HTML\n",
    "css = open('style-table.css').read() + open('style-notebook.css').read()\n",
    "HTML('<style>{}</style>'.format(css))"
   ]
  },
  {
   "cell_type": "code",
   "execution_count": 3,
   "metadata": {},
   "outputs": [
    {
     "data": {
      "text/html": [
       "<div>\n",
       "<style scoped>\n",
       "    .dataframe tbody tr th:only-of-type {\n",
       "        vertical-align: middle;\n",
       "    }\n",
       "\n",
       "    .dataframe tbody tr th {\n",
       "        vertical-align: top;\n",
       "    }\n",
       "\n",
       "    .dataframe thead th {\n",
       "        text-align: right;\n",
       "    }\n",
       "</style>\n",
       "<table border=\"1\" class=\"dataframe\">\n",
       "  <thead>\n",
       "    <tr style=\"text-align: right;\">\n",
       "      <th></th>\n",
       "      <th>title</th>\n",
       "      <th>year</th>\n",
       "    </tr>\n",
       "  </thead>\n",
       "  <tbody>\n",
       "    <tr>\n",
       "      <th>0</th>\n",
       "      <td>Gigantic</td>\n",
       "      <td>2018</td>\n",
       "    </tr>\n",
       "    <tr>\n",
       "      <th>1</th>\n",
       "      <td>Lawson: White Heat</td>\n",
       "      <td>2009</td>\n",
       "    </tr>\n",
       "    <tr>\n",
       "      <th>2</th>\n",
       "      <td>The Purge: Anarchy</td>\n",
       "      <td>2014</td>\n",
       "    </tr>\n",
       "    <tr>\n",
       "      <th>3</th>\n",
       "      <td>Sawar Re</td>\n",
       "      <td>2008</td>\n",
       "    </tr>\n",
       "    <tr>\n",
       "      <th>4</th>\n",
       "      <td>Mockery</td>\n",
       "      <td>1927</td>\n",
       "    </tr>\n",
       "  </tbody>\n",
       "</table>\n",
       "</div>"
      ],
      "text/plain": [
       "                title  year\n",
       "0            Gigantic  2018\n",
       "1  Lawson: White Heat  2009\n",
       "2  The Purge: Anarchy  2014\n",
       "3            Sawar Re  2008\n",
       "4             Mockery  1927"
      ]
     },
     "execution_count": 3,
     "metadata": {},
     "output_type": "execute_result"
    }
   ],
   "source": [
    "titles = pd.read_csv('data/titles.csv', index_col=None)\n",
    "titles.head()"
   ]
  },
  {
   "cell_type": "code",
   "execution_count": 4,
   "metadata": {},
   "outputs": [
    {
     "data": {
      "text/html": [
       "<div>\n",
       "<style scoped>\n",
       "    .dataframe tbody tr th:only-of-type {\n",
       "        vertical-align: middle;\n",
       "    }\n",
       "\n",
       "    .dataframe tbody tr th {\n",
       "        vertical-align: top;\n",
       "    }\n",
       "\n",
       "    .dataframe thead th {\n",
       "        text-align: right;\n",
       "    }\n",
       "</style>\n",
       "<table border=\"1\" class=\"dataframe\">\n",
       "  <thead>\n",
       "    <tr style=\"text-align: right;\">\n",
       "      <th></th>\n",
       "      <th>title</th>\n",
       "      <th>year</th>\n",
       "      <th>name</th>\n",
       "      <th>type</th>\n",
       "      <th>character</th>\n",
       "      <th>n</th>\n",
       "    </tr>\n",
       "  </thead>\n",
       "  <tbody>\n",
       "    <tr>\n",
       "      <th>0</th>\n",
       "      <td>Suuri illusioni</td>\n",
       "      <td>1985</td>\n",
       "      <td>Homo $</td>\n",
       "      <td>actor</td>\n",
       "      <td>Guests</td>\n",
       "      <td>22.0</td>\n",
       "    </tr>\n",
       "    <tr>\n",
       "      <th>1</th>\n",
       "      <td>Battle of the Sexes</td>\n",
       "      <td>2017</td>\n",
       "      <td>$hutter</td>\n",
       "      <td>actor</td>\n",
       "      <td>Bobby Riggs Fan</td>\n",
       "      <td>10.0</td>\n",
       "    </tr>\n",
       "    <tr>\n",
       "      <th>2</th>\n",
       "      <td>Secret in Their Eyes</td>\n",
       "      <td>2015</td>\n",
       "      <td>$hutter</td>\n",
       "      <td>actor</td>\n",
       "      <td>2002 Dodger Fan</td>\n",
       "      <td>NaN</td>\n",
       "    </tr>\n",
       "    <tr>\n",
       "      <th>3</th>\n",
       "      <td>Steve Jobs</td>\n",
       "      <td>2015</td>\n",
       "      <td>$hutter</td>\n",
       "      <td>actor</td>\n",
       "      <td>1988 Opera House Patron</td>\n",
       "      <td>NaN</td>\n",
       "    </tr>\n",
       "    <tr>\n",
       "      <th>4</th>\n",
       "      <td>Straight Outta Compton</td>\n",
       "      <td>2015</td>\n",
       "      <td>$hutter</td>\n",
       "      <td>actor</td>\n",
       "      <td>Club Patron</td>\n",
       "      <td>NaN</td>\n",
       "    </tr>\n",
       "  </tbody>\n",
       "</table>\n",
       "</div>"
      ],
      "text/plain": [
       "                    title  year     name   type                character     n\n",
       "0         Suuri illusioni  1985   Homo $  actor                   Guests  22.0\n",
       "1     Battle of the Sexes  2017  $hutter  actor          Bobby Riggs Fan  10.0\n",
       "2    Secret in Their Eyes  2015  $hutter  actor          2002 Dodger Fan   NaN\n",
       "3              Steve Jobs  2015  $hutter  actor  1988 Opera House Patron   NaN\n",
       "4  Straight Outta Compton  2015  $hutter  actor              Club Patron   NaN"
      ]
     },
     "execution_count": 4,
     "metadata": {},
     "output_type": "execute_result"
    }
   ],
   "source": [
    "cast = pd.read_csv('data/cast.csv', index_col=None)\n",
    "cast.head()"
   ]
  },
  {
   "cell_type": "markdown",
   "metadata": {
    "collapsed": true
   },
   "source": [
    "### What are the ten most common movie names of all time?\n",
    "- 지금까지 가장 흔한 영화이름 10가지는?"
   ]
  },
  {
   "cell_type": "code",
   "execution_count": 5,
   "metadata": {},
   "outputs": [
    {
     "data": {
      "text/plain": [
       "<pandas.core.groupby.generic.DataFrameGroupBy object at 0x000001B202A65520>"
      ]
     },
     "execution_count": 5,
     "metadata": {},
     "output_type": "execute_result"
    }
   ],
   "source": [
    "titles.groupby('year')"
   ]
  },
  {
   "cell_type": "markdown",
   "metadata": {
    "collapsed": true
   },
   "source": [
    "### Which three years of the 1930s saw the most films released?\n",
    "- 1930년대에서 어느 3년대가 가장 많이 영화 개봉을 했나?"
   ]
  },
  {
   "cell_type": "code",
   "execution_count": 6,
   "metadata": {},
   "outputs": [],
   "source": [
    "years = cast[(cast.year // 10 == 193)]"
   ]
  },
  {
   "cell_type": "code",
   "execution_count": 7,
   "metadata": {},
   "outputs": [
    {
     "data": {
      "text/plain": [
       "1937    27346\n",
       "1936    25665\n",
       "1938    25170\n",
       "Name: year, dtype: int64"
      ]
     },
     "execution_count": 7,
     "metadata": {},
     "output_type": "execute_result"
    }
   ],
   "source": [
    "years.year.value_counts().head(3)"
   ]
  },
  {
   "cell_type": "markdown",
   "metadata": {
    "collapsed": true
   },
   "source": [
    "### Plot the number of films that have been released each decade over the history of cinema.\n",
    "- 영화 역사에 걸쳐 매 10년 마다 개봉된 영화의 수를 그려보세요."
   ]
  },
  {
   "cell_type": "code",
   "execution_count": 8,
   "metadata": {},
   "outputs": [
    {
     "name": "stdout",
     "output_type": "stream",
     "text": [
      "1890년대 = 3개\n",
      "1900년대 = 70개\n",
      "1910년대 = 42326개\n",
      "1920년대 = 71039개\n",
      "1930년대 = 198319개\n",
      "1940년대 = 210697개\n",
      "1950년대 = 209808개\n",
      "1960년대 = 184391개\n",
      "1970년대 = 211386개\n",
      "1980년대 = 280528개\n",
      "1990년대 = 378926개\n",
      "2000년대 = 742871개\n",
      "2010년대 = 1023991개\n",
      "2020년대 = 152개\n",
      "2030년대 = 0개\n"
     ]
    }
   ],
   "source": [
    "for i in range(15):\n",
    "    lst = cast[(cast.year >= 1890  + 10 * i) & (cast.year < 1890 + i * 10 + 10)]\n",
    "    print('{}년대 = {}개'.format(1890 + 10 *i, len(lst)))"
   ]
  },
  {
   "cell_type": "markdown",
   "metadata": {
    "collapsed": true
   },
   "source": [
    "### Plot the number of \"Hamlet\" films made each decade.\n",
    "- 매 10년마다 제작된 \"햄릿\"의 영화 수"
   ]
  },
  {
   "cell_type": "code",
   "execution_count": 11,
   "metadata": {},
   "outputs": [
    {
     "name": "stdout",
     "output_type": "stream",
     "text": [
      "1890년대 = 0개\n",
      "1900년대 = 0개\n",
      "1910년대 = 3개\n",
      "1920년대 = 1개\n",
      "1930년대 = 0개\n",
      "1940년대 = 1개\n",
      "1950년대 = 1개\n",
      "1960년대 = 2개\n",
      "1970년대 = 2개\n",
      "1980년대 = 1개\n",
      "1990년대 = 2개\n",
      "2000년대 = 2개\n",
      "2010년대 = 4개\n",
      "2020년대 = 0개\n",
      "2030년대 = 0개\n"
     ]
    }
   ],
   "source": [
    "for i in range(15):\n",
    "    lst = titles[(titles.year >= 1890  + 10 * i) & (titles.year < 1890 + i * 10 + 10) \n",
    "                 & (titles.title == \"Hamlet\")]\n",
    "    print('{}년대 = {}개'.format(1890 + 10 *i, len(lst)))"
   ]
  },
  {
   "cell_type": "markdown",
   "metadata": {
    "collapsed": true
   },
   "source": [
    "### Plot the number of \"Rustler\" characters in each decade of the history of film.\n",
    "- 영화 역사상 매 10년 동안 \"러스틀러\"의 등장인물 수 표시"
   ]
  },
  {
   "cell_type": "code",
   "execution_count": 12,
   "metadata": {},
   "outputs": [
    {
     "name": "stdout",
     "output_type": "stream",
     "text": [
      "1890년대 = 0개\n",
      "1900년대 = 0개\n",
      "1910년대 = 0개\n",
      "1920년대 = 6개\n",
      "1930년대 = 84개\n",
      "1940년대 = 18개\n",
      "1950년대 = 8개\n",
      "1960년대 = 2개\n",
      "1970년대 = 9개\n",
      "1980년대 = 1개\n",
      "1990년대 = 4개\n",
      "2000년대 = 2개\n",
      "2010년대 = 0개\n",
      "2020년대 = 0개\n",
      "2030년대 = 0개\n"
     ]
    }
   ],
   "source": [
    "for i in range(15):\n",
    "    lst = cast[(cast.year>=1890 +10*i) & (cast.year <1890 +i*10 +10)&(cast.character == \"Rustler\")]\n",
    "    print('{}년대 = {}개'.format(1890 +10*i, len(lst)))"
   ]
  },
  {
   "cell_type": "markdown",
   "metadata": {
    "collapsed": true
   },
   "source": [
    "### Plot the number of \"Hamlet\" characters each decade.\n",
    "- 매 년 \"햄릿\" 캐릭터 수"
   ]
  },
  {
   "cell_type": "code",
   "execution_count": 13,
   "metadata": {},
   "outputs": [
    {
     "name": "stdout",
     "output_type": "stream",
     "text": [
      "1890년대 = 0개\n",
      "1900년대 = 0개\n",
      "1910년대 = 6개\n",
      "1920년대 = 1개\n",
      "1930년대 = 6개\n",
      "1940년대 = 1개\n",
      "1950년대 = 3개\n",
      "1960년대 = 6개\n",
      "1970년대 = 8개\n",
      "1980년대 = 2개\n",
      "1990년대 = 11개\n",
      "2000년대 = 19개\n",
      "2010년대 = 26개\n",
      "2020년대 = 0개\n",
      "2030년대 = 0개\n"
     ]
    }
   ],
   "source": [
    "for i in range(15):\n",
    "    lst = cast[(cast.year>=1890 +10*i) & (cast.year <1890 +i*10 +10)&(cast.character == \"Hamlet\")]\n",
    "    print('{}년대 = {}개'.format(1890 +10*i, len(lst)))"
   ]
  },
  {
   "cell_type": "markdown",
   "metadata": {
    "collapsed": true
   },
   "source": [
    "### What are the 11 most common character names in movie history?\n",
    "- 영화 역사상 가장 흔한 캐릭터 이름은 무엇입니까?"
   ]
  },
  {
   "cell_type": "code",
   "execution_count": 15,
   "metadata": {},
   "outputs": [
    {
     "data": {
      "text/plain": [
       "Himself        19468\n",
       "Dancer         11855\n",
       "Extra          10648\n",
       "Reporter        8041\n",
       "Doctor          7312\n",
       "Student         6920\n",
       "Policeman       6800\n",
       "Party Guest     6626\n",
       "Nurse           6523\n",
       "Bartender       6498\n",
       "Minor Role      6170\n",
       "Name: character, dtype: int64"
      ]
     },
     "execution_count": 15,
     "metadata": {},
     "output_type": "execute_result"
    }
   ],
   "source": [
    "cast['character'].value_counts().head(11)"
   ]
  },
  {
   "cell_type": "markdown",
   "metadata": {
    "collapsed": true
   },
   "source": [
    "### Who are the 10 people most often credited as \"Herself\" in film history?\n",
    "- 영화 역사상 \"자신\"으로 가장 자주 인정받은 10명은 누구인가?"
   ]
  },
  {
   "cell_type": "code",
   "execution_count": 16,
   "metadata": {},
   "outputs": [],
   "source": [
    "lst = cast[cast.character == 'Herself']"
   ]
  },
  {
   "cell_type": "code",
   "execution_count": 17,
   "metadata": {},
   "outputs": [
    {
     "data": {
      "text/plain": [
       "Joyce Brothers        14\n",
       "Queen Elizabeth II    11\n",
       "Mary Jo Pehl           7\n",
       "Margaret Thatcher      7\n",
       "Joan Rivers            6\n",
       "Marilyn Monroe         5\n",
       "Caroline Rhea          5\n",
       "Rekha                  5\n",
       "Kareena Kapoor         5\n",
       "Bunny Yeager           5\n",
       "Name: name, dtype: int64"
      ]
     },
     "execution_count": 17,
     "metadata": {},
     "output_type": "execute_result"
    }
   ],
   "source": [
    "lst['name'].value_counts().head(10)"
   ]
  },
  {
   "cell_type": "markdown",
   "metadata": {
    "collapsed": true
   },
   "source": [
    "### Who are the 10 people most often credited as \"Himself\" in film history?\n",
    "- 영화 역사상 \"Himself\"로 가장 자주 여겨지는 10명의 사람들은 누구인가?"
   ]
  },
  {
   "cell_type": "code",
   "execution_count": 18,
   "metadata": {},
   "outputs": [],
   "source": [
    "lst = cast[cast.character=='Himself']"
   ]
  },
  {
   "cell_type": "code",
   "execution_count": 19,
   "metadata": {},
   "outputs": [
    {
     "data": {
      "text/plain": [
       "Adolf Hitler             98\n",
       "Richard Nixon            43\n",
       "Ronald Reagan            36\n",
       "John F. Kennedy          28\n",
       "Ron Jeremy               23\n",
       "George W. Bush           22\n",
       "Winston Churchill        22\n",
       "Benito Mussolini         22\n",
       "Bill Clinton             20\n",
       "Franklin D. Roosevelt    20\n",
       "Name: name, dtype: int64"
      ]
     },
     "execution_count": 19,
     "metadata": {},
     "output_type": "execute_result"
    }
   ],
   "source": [
    "lst['name'].value_counts().head(10)"
   ]
  },
  {
   "cell_type": "markdown",
   "metadata": {
    "collapsed": true
   },
   "source": [
    "### Which actors or actresses appeared in the most movies in the year 1945?\n",
    "- 1945년에 가장 많은 영화에 출연한 배우는 누구인가?"
   ]
  },
  {
   "cell_type": "code",
   "execution_count": 20,
   "metadata": {},
   "outputs": [],
   "source": [
    "lst=cast[cast.year==1945]"
   ]
  },
  {
   "cell_type": "code",
   "execution_count": 21,
   "metadata": {},
   "outputs": [
    {
     "data": {
      "text/plain": [
       "Emmett Vogan    39\n",
       "Name: name, dtype: int64"
      ]
     },
     "execution_count": 21,
     "metadata": {},
     "output_type": "execute_result"
    }
   ],
   "source": [
    "lst['name'].value_counts().head(1)"
   ]
  },
  {
   "cell_type": "markdown",
   "metadata": {
    "collapsed": true
   },
   "source": [
    "### Which actors or actresses appeared in the most movies in the year 1985?\n",
    "- 1985년에 가장 많은 영화에 출연한 배우는 누구인가?"
   ]
  },
  {
   "cell_type": "code",
   "execution_count": 22,
   "metadata": {},
   "outputs": [],
   "source": [
    "lst=cast[cast.year==1985]"
   ]
  },
  {
   "cell_type": "code",
   "execution_count": 23,
   "metadata": {},
   "outputs": [
    {
     "data": {
      "text/plain": [
       "Mammootty    21\n",
       "Name: name, dtype: int64"
      ]
     },
     "execution_count": 23,
     "metadata": {},
     "output_type": "execute_result"
    }
   ],
   "source": [
    "lst['name'].value_counts().head(1)"
   ]
  },
  {
   "cell_type": "markdown",
   "metadata": {
    "collapsed": true
   },
   "source": [
    "### Plot how many roles Mammootty has played in each year of his career.\n",
    "- 마무티가 그의 경력에서 매년 얼마나 많은 역할을 해왔는지 그려보아라."
   ]
  },
  {
   "cell_type": "code",
   "execution_count": 24,
   "metadata": {},
   "outputs": [
    {
     "data": {
      "text/plain": [
       "269"
      ]
     },
     "execution_count": 24,
     "metadata": {},
     "output_type": "execute_result"
    }
   ],
   "source": [
    "lst = cast[cast.name==\"Mammootty\"]\n",
    "len(lst)"
   ]
  },
  {
   "cell_type": "markdown",
   "metadata": {
    "collapsed": true
   },
   "source": [
    "### What are the 10 most frequent roles that start with the phrase \"Patron in\"?\n",
    "- \"패트론 인\"이라는 문구로 시작하는 가장 빈번한 역할 10가지입니다."
   ]
  },
  {
   "cell_type": "code",
   "execution_count": 25,
   "metadata": {},
   "outputs": [],
   "source": [
    "lst = cast[cast['character'].str.startswith(\"Patron in\") == True]"
   ]
  },
  {
   "cell_type": "code",
   "execution_count": 26,
   "metadata": {},
   "outputs": [
    {
     "data": {
      "text/plain": [
       "Patron in Frisky Rabbit         16\n",
       "Patron in the Coffee House       9\n",
       "Patron in Chinese Restaurant     9\n",
       "Patron in Billiard Parlor        5\n",
       "Patron in Bar                    4\n",
       "Patron in cabaret                3\n",
       "Patron in Club                   3\n",
       "Patron in restaurant             3\n",
       "Patron in Restaurant             3\n",
       "Patron in Coffee Shop            2\n",
       "Name: character, dtype: int64"
      ]
     },
     "execution_count": 26,
     "metadata": {},
     "output_type": "execute_result"
    }
   ],
   "source": [
    "lst['character'].value_counts().head(10)"
   ]
  },
  {
   "cell_type": "markdown",
   "metadata": {
    "collapsed": true
   },
   "source": [
    "### What are the 10 most frequent roles that start with the word \"Science\"?\n",
    "- \"과학\"이라는 단어로 시작하는 가장 빈번한 10개의 역할은 무엇인가?"
   ]
  },
  {
   "cell_type": "code",
   "execution_count": 27,
   "metadata": {},
   "outputs": [],
   "source": [
    "lst = cast[cast['character'].str.startswith(\"Science\") == True]"
   ]
  },
  {
   "cell_type": "code",
   "execution_count": 28,
   "metadata": {},
   "outputs": [
    {
     "data": {
      "text/plain": [
       "Science Teacher         57\n",
       "Science Fair Student     9\n",
       "Science Student          9\n",
       "Science Fair Judge       5\n",
       "Science Kid              5\n",
       "Science Promo Cadet      5\n",
       "Science Reporter         5\n",
       "Science Club Member      5\n",
       "Science                  3\n",
       "Science Fair Teacher     3\n",
       "Name: character, dtype: int64"
      ]
     },
     "execution_count": 28,
     "metadata": {},
     "output_type": "execute_result"
    }
   ],
   "source": [
    "lst['character'].value_counts().head(10)"
   ]
  },
  {
   "cell_type": "markdown",
   "metadata": {
    "collapsed": true
   },
   "source": [
    "### Plot the n-values of the roles that Judi Dench has played over her career.\n",
    "- Judi Dench가 그녀의 경력에 대해 연기한 역할의 n-값을 그려보세요."
   ]
  },
  {
   "cell_type": "code",
   "execution_count": 29,
   "metadata": {},
   "outputs": [],
   "source": [
    "lst = cast[(cast.name==\"Judi Dench\")]"
   ]
  },
  {
   "cell_type": "code",
   "execution_count": 30,
   "metadata": {},
   "outputs": [
    {
     "data": {
      "text/html": [
       "<div>\n",
       "<style scoped>\n",
       "    .dataframe tbody tr th:only-of-type {\n",
       "        vertical-align: middle;\n",
       "    }\n",
       "\n",
       "    .dataframe tbody tr th {\n",
       "        vertical-align: top;\n",
       "    }\n",
       "\n",
       "    .dataframe thead th {\n",
       "        text-align: right;\n",
       "    }\n",
       "</style>\n",
       "<table border=\"1\" class=\"dataframe\">\n",
       "  <thead>\n",
       "    <tr style=\"text-align: right;\">\n",
       "      <th></th>\n",
       "      <th>character</th>\n",
       "      <th>n</th>\n",
       "    </tr>\n",
       "  </thead>\n",
       "  <tbody>\n",
       "    <tr>\n",
       "      <th>2661756</th>\n",
       "      <td>Nora Doel</td>\n",
       "      <td>3.0</td>\n",
       "    </tr>\n",
       "    <tr>\n",
       "      <th>2661757</th>\n",
       "      <td>Mrs. Beaver</td>\n",
       "      <td>13.0</td>\n",
       "    </tr>\n",
       "    <tr>\n",
       "      <th>2661758</th>\n",
       "      <td>Titania</td>\n",
       "      <td>16.0</td>\n",
       "    </tr>\n",
       "    <tr>\n",
       "      <th>2661759</th>\n",
       "      <td>Eleanor Lavish, a novelist</td>\n",
       "      <td>7.0</td>\n",
       "    </tr>\n",
       "    <tr>\n",
       "      <th>2661760</th>\n",
       "      <td>Sally</td>\n",
       "      <td>8.0</td>\n",
       "    </tr>\n",
       "    <tr>\n",
       "      <th>2661761</th>\n",
       "      <td>Miss Lilly</td>\n",
       "      <td>2.0</td>\n",
       "    </tr>\n",
       "    <tr>\n",
       "      <th>2661762</th>\n",
       "      <td>M</td>\n",
       "      <td>4.0</td>\n",
       "    </tr>\n",
       "    <tr>\n",
       "      <th>2661763</th>\n",
       "      <td>Armande Voizin</td>\n",
       "      <td>18.0</td>\n",
       "    </tr>\n",
       "    <tr>\n",
       "      <th>2661764</th>\n",
       "      <td>Laura Davidson</td>\n",
       "      <td>2.0</td>\n",
       "    </tr>\n",
       "    <tr>\n",
       "      <th>2661765</th>\n",
       "      <td>M</td>\n",
       "      <td>6.0</td>\n",
       "    </tr>\n",
       "    <tr>\n",
       "      <th>2661766</th>\n",
       "      <td>Narrator</td>\n",
       "      <td>7.0</td>\n",
       "    </tr>\n",
       "    <tr>\n",
       "      <th>2661767</th>\n",
       "      <td>Wife</td>\n",
       "      <td>2.0</td>\n",
       "    </tr>\n",
       "    <tr>\n",
       "      <th>2661768</th>\n",
       "      <td>M</td>\n",
       "      <td>6.0</td>\n",
       "    </tr>\n",
       "    <tr>\n",
       "      <th>2661769</th>\n",
       "      <td>Hecuba</td>\n",
       "      <td>12.0</td>\n",
       "    </tr>\n",
       "    <tr>\n",
       "      <th>2661770</th>\n",
       "      <td>Joanne</td>\n",
       "      <td>2.0</td>\n",
       "    </tr>\n",
       "    <tr>\n",
       "      <th>2661771</th>\n",
       "      <td>Mistress Nell Quickly</td>\n",
       "      <td>26.0</td>\n",
       "    </tr>\n",
       "    <tr>\n",
       "      <th>2661772</th>\n",
       "      <td>Mrs. Caloway</td>\n",
       "      <td>7.0</td>\n",
       "    </tr>\n",
       "    <tr>\n",
       "      <th>2661773</th>\n",
       "      <td>Iris Murdoch</td>\n",
       "      <td>3.0</td>\n",
       "    </tr>\n",
       "    <tr>\n",
       "      <th>2661774</th>\n",
       "      <td>Annie Hoover</td>\n",
       "      <td>13.0</td>\n",
       "    </tr>\n",
       "    <tr>\n",
       "      <th>2661775</th>\n",
       "      <td>Margaret</td>\n",
       "      <td>3.0</td>\n",
       "    </tr>\n",
       "    <tr>\n",
       "      <th>2661776</th>\n",
       "      <td>Mrs. Fairfax</td>\n",
       "      <td>18.0</td>\n",
       "    </tr>\n",
       "    <tr>\n",
       "      <th>2661777</th>\n",
       "      <td>Paulina</td>\n",
       "      <td>NaN</td>\n",
       "    </tr>\n",
       "    <tr>\n",
       "      <th>2661778</th>\n",
       "      <td>Ursula</td>\n",
       "      <td>1.0</td>\n",
       "    </tr>\n",
       "    <tr>\n",
       "      <th>2661779</th>\n",
       "      <td>Katherine</td>\n",
       "      <td>7.0</td>\n",
       "    </tr>\n",
       "    <tr>\n",
       "      <th>2661780</th>\n",
       "      <td>Miss Avocet</td>\n",
       "      <td>NaN</td>\n",
       "    </tr>\n",
       "    <tr>\n",
       "      <th>2661781</th>\n",
       "      <td>Queen Victoria</td>\n",
       "      <td>1.0</td>\n",
       "    </tr>\n",
       "    <tr>\n",
       "      <th>2661782</th>\n",
       "      <td>Mrs. Laura Henderson</td>\n",
       "      <td>1.0</td>\n",
       "    </tr>\n",
       "    <tr>\n",
       "      <th>2661783</th>\n",
       "      <td>Dame Sybil Thorndike</td>\n",
       "      <td>23.0</td>\n",
       "    </tr>\n",
       "    <tr>\n",
       "      <th>2661784</th>\n",
       "      <td>Lilli</td>\n",
       "      <td>6.0</td>\n",
       "    </tr>\n",
       "    <tr>\n",
       "      <th>2661785</th>\n",
       "      <td>Barbara Covett</td>\n",
       "      <td>1.0</td>\n",
       "    </tr>\n",
       "    <tr>\n",
       "      <th>2661786</th>\n",
       "      <td>Philomena</td>\n",
       "      <td>1.0</td>\n",
       "    </tr>\n",
       "    <tr>\n",
       "      <th>2661787</th>\n",
       "      <td>Society Lady</td>\n",
       "      <td>16.0</td>\n",
       "    </tr>\n",
       "    <tr>\n",
       "      <th>2661788</th>\n",
       "      <td>Lady Catherine de Bourg</td>\n",
       "      <td>20.0</td>\n",
       "    </tr>\n",
       "    <tr>\n",
       "      <th>2661789</th>\n",
       "      <td>M</td>\n",
       "      <td>4.0</td>\n",
       "    </tr>\n",
       "    <tr>\n",
       "      <th>2661790</th>\n",
       "      <td>Mona Carvell</td>\n",
       "      <td>NaN</td>\n",
       "    </tr>\n",
       "    <tr>\n",
       "      <th>2661791</th>\n",
       "      <td>Bag Lady</td>\n",
       "      <td>40.0</td>\n",
       "    </tr>\n",
       "    <tr>\n",
       "      <th>2661792</th>\n",
       "      <td>The Narrator</td>\n",
       "      <td>NaN</td>\n",
       "    </tr>\n",
       "    <tr>\n",
       "      <th>2661793</th>\n",
       "      <td>Queen Elizabeth</td>\n",
       "      <td>12.0</td>\n",
       "    </tr>\n",
       "    <tr>\n",
       "      <th>2661794</th>\n",
       "      <td>M</td>\n",
       "      <td>2.0</td>\n",
       "    </tr>\n",
       "    <tr>\n",
       "      <th>2661795</th>\n",
       "      <td>M</td>\n",
       "      <td>NaN</td>\n",
       "    </tr>\n",
       "    <tr>\n",
       "      <th>2661796</th>\n",
       "      <td>Mary</td>\n",
       "      <td>29.0</td>\n",
       "    </tr>\n",
       "    <tr>\n",
       "      <th>2661797</th>\n",
       "      <td>Arabella</td>\n",
       "      <td>2.0</td>\n",
       "    </tr>\n",
       "    <tr>\n",
       "      <th>2661798</th>\n",
       "      <td>Shakespeare's Sonnets read by</td>\n",
       "      <td>3.0</td>\n",
       "    </tr>\n",
       "    <tr>\n",
       "      <th>2661799</th>\n",
       "      <td>Evelyn Greenslade</td>\n",
       "      <td>1.0</td>\n",
       "    </tr>\n",
       "    <tr>\n",
       "      <th>2661800</th>\n",
       "      <td>Aereon</td>\n",
       "      <td>4.0</td>\n",
       "    </tr>\n",
       "    <tr>\n",
       "      <th>2661801</th>\n",
       "      <td>Lady Bracknell</td>\n",
       "      <td>5.0</td>\n",
       "    </tr>\n",
       "    <tr>\n",
       "      <th>2661802</th>\n",
       "      <td>Evelyn Greenslade</td>\n",
       "      <td>5.0</td>\n",
       "    </tr>\n",
       "    <tr>\n",
       "      <th>2661803</th>\n",
       "      <td>Agnis Hamm</td>\n",
       "      <td>3.0</td>\n",
       "    </tr>\n",
       "    <tr>\n",
       "      <th>2661804</th>\n",
       "      <td>Miss Humphries</td>\n",
       "      <td>12.0</td>\n",
       "    </tr>\n",
       "    <tr>\n",
       "      <th>2661805</th>\n",
       "      <td>M</td>\n",
       "      <td>6.0</td>\n",
       "    </tr>\n",
       "    <tr>\n",
       "      <th>2661806</th>\n",
       "      <td>M</td>\n",
       "      <td>9.0</td>\n",
       "    </tr>\n",
       "    <tr>\n",
       "      <th>2661807</th>\n",
       "      <td>The Abbess of St. Ursula</td>\n",
       "      <td>NaN</td>\n",
       "    </tr>\n",
       "    <tr>\n",
       "      <th>2661808</th>\n",
       "      <td>Queen Victoria</td>\n",
       "      <td>NaN</td>\n",
       "    </tr>\n",
       "    <tr>\n",
       "      <th>2661809</th>\n",
       "      <td>Marcia Pilborough</td>\n",
       "      <td>3.0</td>\n",
       "    </tr>\n",
       "  </tbody>\n",
       "</table>\n",
       "</div>"
      ],
      "text/plain": [
       "                             character     n\n",
       "2661756                      Nora Doel   3.0\n",
       "2661757                    Mrs. Beaver  13.0\n",
       "2661758                        Titania  16.0\n",
       "2661759     Eleanor Lavish, a novelist   7.0\n",
       "2661760                          Sally   8.0\n",
       "2661761                     Miss Lilly   2.0\n",
       "2661762                              M   4.0\n",
       "2661763                 Armande Voizin  18.0\n",
       "2661764                 Laura Davidson   2.0\n",
       "2661765                              M   6.0\n",
       "2661766                       Narrator   7.0\n",
       "2661767                           Wife   2.0\n",
       "2661768                              M   6.0\n",
       "2661769                         Hecuba  12.0\n",
       "2661770                         Joanne   2.0\n",
       "2661771          Mistress Nell Quickly  26.0\n",
       "2661772                   Mrs. Caloway   7.0\n",
       "2661773                   Iris Murdoch   3.0\n",
       "2661774                   Annie Hoover  13.0\n",
       "2661775                       Margaret   3.0\n",
       "2661776                   Mrs. Fairfax  18.0\n",
       "2661777                        Paulina   NaN\n",
       "2661778                         Ursula   1.0\n",
       "2661779                      Katherine   7.0\n",
       "2661780                    Miss Avocet   NaN\n",
       "2661781                 Queen Victoria   1.0\n",
       "2661782           Mrs. Laura Henderson   1.0\n",
       "2661783           Dame Sybil Thorndike  23.0\n",
       "2661784                          Lilli   6.0\n",
       "2661785                 Barbara Covett   1.0\n",
       "2661786                      Philomena   1.0\n",
       "2661787                   Society Lady  16.0\n",
       "2661788        Lady Catherine de Bourg  20.0\n",
       "2661789                              M   4.0\n",
       "2661790                   Mona Carvell   NaN\n",
       "2661791                       Bag Lady  40.0\n",
       "2661792                   The Narrator   NaN\n",
       "2661793                Queen Elizabeth  12.0\n",
       "2661794                              M   2.0\n",
       "2661795                              M   NaN\n",
       "2661796                           Mary  29.0\n",
       "2661797                       Arabella   2.0\n",
       "2661798  Shakespeare's Sonnets read by   3.0\n",
       "2661799              Evelyn Greenslade   1.0\n",
       "2661800                         Aereon   4.0\n",
       "2661801                 Lady Bracknell   5.0\n",
       "2661802              Evelyn Greenslade   5.0\n",
       "2661803                     Agnis Hamm   3.0\n",
       "2661804                 Miss Humphries  12.0\n",
       "2661805                              M   6.0\n",
       "2661806                              M   9.0\n",
       "2661807       The Abbess of St. Ursula   NaN\n",
       "2661808                 Queen Victoria   NaN\n",
       "2661809              Marcia Pilborough   3.0"
      ]
     },
     "execution_count": 30,
     "metadata": {},
     "output_type": "execute_result"
    }
   ],
   "source": [
    "lst[['character','n']]"
   ]
  },
  {
   "cell_type": "markdown",
   "metadata": {
    "collapsed": true
   },
   "source": [
    "### Plot the n-values of Cary Grant's roles through his career.\n",
    "- 캐리 그랜트의 경력을 통해 그의 역할의 n-값을 그려보세요."
   ]
  },
  {
   "cell_type": "code",
   "execution_count": 31,
   "metadata": {},
   "outputs": [],
   "source": [
    "lst = cast[(cast.name==\"Cary Grant\")]"
   ]
  },
  {
   "cell_type": "code",
   "execution_count": 32,
   "metadata": {},
   "outputs": [
    {
     "data": {
      "text/html": [
       "<div>\n",
       "<style scoped>\n",
       "    .dataframe tbody tr th:only-of-type {\n",
       "        vertical-align: middle;\n",
       "    }\n",
       "\n",
       "    .dataframe tbody tr th {\n",
       "        vertical-align: top;\n",
       "    }\n",
       "\n",
       "    .dataframe thead th {\n",
       "        text-align: right;\n",
       "    }\n",
       "</style>\n",
       "<table border=\"1\" class=\"dataframe\">\n",
       "  <thead>\n",
       "    <tr style=\"text-align: right;\">\n",
       "      <th></th>\n",
       "      <th>character</th>\n",
       "      <th>n</th>\n",
       "    </tr>\n",
       "  </thead>\n",
       "  <tbody>\n",
       "    <tr>\n",
       "      <th>827671</th>\n",
       "      <td>Mock Turtle</td>\n",
       "      <td>10.0</td>\n",
       "    </tr>\n",
       "    <tr>\n",
       "      <th>827672</th>\n",
       "      <td>Nickie Ferrante</td>\n",
       "      <td>1.0</td>\n",
       "    </tr>\n",
       "    <tr>\n",
       "      <th>827673</th>\n",
       "      <td>Mortimer Brewster</td>\n",
       "      <td>1.0</td>\n",
       "    </tr>\n",
       "    <tr>\n",
       "      <th>827674</th>\n",
       "      <td>Det. Sgt. Danny Barr</td>\n",
       "      <td>1.0</td>\n",
       "    </tr>\n",
       "    <tr>\n",
       "      <th>827675</th>\n",
       "      <td>Nick Townsend</td>\n",
       "      <td>3.0</td>\n",
       "    </tr>\n",
       "    <tr>\n",
       "      <th>...</th>\n",
       "      <td>...</td>\n",
       "      <td>...</td>\n",
       "    </tr>\n",
       "    <tr>\n",
       "      <th>827747</th>\n",
       "      <td>Sir William Rutland</td>\n",
       "      <td>1.0</td>\n",
       "    </tr>\n",
       "    <tr>\n",
       "      <th>827748</th>\n",
       "      <td>Charlie Mason</td>\n",
       "      <td>2.0</td>\n",
       "    </tr>\n",
       "    <tr>\n",
       "      <th>827749</th>\n",
       "      <td>Jimmy Hudson</td>\n",
       "      <td>2.0</td>\n",
       "    </tr>\n",
       "    <tr>\n",
       "      <th>827750</th>\n",
       "      <td>Ken Gordon</td>\n",
       "      <td>2.0</td>\n",
       "    </tr>\n",
       "    <tr>\n",
       "      <th>827751</th>\n",
       "      <td>Cary Grant</td>\n",
       "      <td>NaN</td>\n",
       "    </tr>\n",
       "  </tbody>\n",
       "</table>\n",
       "<p>81 rows × 2 columns</p>\n",
       "</div>"
      ],
      "text/plain": [
       "                   character     n\n",
       "827671           Mock Turtle  10.0\n",
       "827672       Nickie Ferrante   1.0\n",
       "827673     Mortimer Brewster   1.0\n",
       "827674  Det. Sgt. Danny Barr   1.0\n",
       "827675         Nick Townsend   3.0\n",
       "...                      ...   ...\n",
       "827747   Sir William Rutland   1.0\n",
       "827748         Charlie Mason   2.0\n",
       "827749          Jimmy Hudson   2.0\n",
       "827750            Ken Gordon   2.0\n",
       "827751            Cary Grant   NaN\n",
       "\n",
       "[81 rows x 2 columns]"
      ]
     },
     "execution_count": 32,
     "metadata": {},
     "output_type": "execute_result"
    }
   ],
   "source": [
    "lst[['character','n']]"
   ]
  },
  {
   "cell_type": "markdown",
   "metadata": {
    "collapsed": true
   },
   "source": [
    "### Plot the n-value of the roles that Sidney Poitier has acted over the years.\n",
    "- 시드니 푸아티에가 수년간 연기한 역할의 n-값을 그림으로 표시"
   ]
  },
  {
   "cell_type": "code",
   "execution_count": 15,
   "metadata": {},
   "outputs": [],
   "source": [
    "lst = cast[(cast.name==\"Sidney Poitier\")]"
   ]
  },
  {
   "cell_type": "code",
   "execution_count": 16,
   "metadata": {},
   "outputs": [
    {
     "data": {
      "text/html": [
       "<div>\n",
       "<style scoped>\n",
       "    .dataframe tbody tr th:only-of-type {\n",
       "        vertical-align: middle;\n",
       "    }\n",
       "\n",
       "    .dataframe tbody tr th {\n",
       "        vertical-align: top;\n",
       "    }\n",
       "\n",
       "    .dataframe thead th {\n",
       "        text-align: right;\n",
       "    }\n",
       "</style>\n",
       "<table border=\"1\" class=\"dataframe\">\n",
       "  <thead>\n",
       "    <tr style=\"text-align: right;\">\n",
       "      <th></th>\n",
       "      <th>character</th>\n",
       "      <th>n</th>\n",
       "      <th>year</th>\n",
       "    </tr>\n",
       "  </thead>\n",
       "  <tbody>\n",
       "    <tr>\n",
       "      <th>1724587</th>\n",
       "      <td>Gordon Ralfe</td>\n",
       "      <td>1.0</td>\n",
       "      <td>1965</td>\n",
       "    </tr>\n",
       "    <tr>\n",
       "      <th>1724588</th>\n",
       "      <td>Manny Durrell</td>\n",
       "      <td>1.0</td>\n",
       "      <td>1977</td>\n",
       "    </tr>\n",
       "    <tr>\n",
       "      <th>1724589</th>\n",
       "      <td>Walter Lee Younger</td>\n",
       "      <td>1.0</td>\n",
       "      <td>1961</td>\n",
       "    </tr>\n",
       "    <tr>\n",
       "      <th>1724590</th>\n",
       "      <td>Dr. Matt Younger</td>\n",
       "      <td>1.0</td>\n",
       "      <td>1973</td>\n",
       "    </tr>\n",
       "    <tr>\n",
       "      <th>1724591</th>\n",
       "      <td>Sgt. Eddie Towler</td>\n",
       "      <td>2.0</td>\n",
       "      <td>1960</td>\n",
       "    </tr>\n",
       "    <tr>\n",
       "      <th>1724592</th>\n",
       "      <td>Rau-Ru</td>\n",
       "      <td>3.0</td>\n",
       "      <td>1957</td>\n",
       "    </tr>\n",
       "    <tr>\n",
       "      <th>1724593</th>\n",
       "      <td>Gregory W. Miller</td>\n",
       "      <td>10.0</td>\n",
       "      <td>1955</td>\n",
       "    </tr>\n",
       "    <tr>\n",
       "      <th>1724594</th>\n",
       "      <td>John Kane</td>\n",
       "      <td>1.0</td>\n",
       "      <td>1971</td>\n",
       "    </tr>\n",
       "    <tr>\n",
       "      <th>1724595</th>\n",
       "      <td>Buck</td>\n",
       "      <td>1.0</td>\n",
       "      <td>1972</td>\n",
       "    </tr>\n",
       "    <tr>\n",
       "      <th>1724596</th>\n",
       "      <td>Reverend Msimangu</td>\n",
       "      <td>3.0</td>\n",
       "      <td>1951</td>\n",
       "    </tr>\n",
       "    <tr>\n",
       "      <th>1724597</th>\n",
       "      <td>Toller</td>\n",
       "      <td>2.0</td>\n",
       "      <td>1966</td>\n",
       "    </tr>\n",
       "    <tr>\n",
       "      <th>1724598</th>\n",
       "      <td>Tommy Tyler</td>\n",
       "      <td>2.0</td>\n",
       "      <td>1957</td>\n",
       "    </tr>\n",
       "    <tr>\n",
       "      <th>1724599</th>\n",
       "      <td>Jack Parks</td>\n",
       "      <td>1.0</td>\n",
       "      <td>1968</td>\n",
       "    </tr>\n",
       "    <tr>\n",
       "      <th>1724600</th>\n",
       "      <td>Inman Jackson</td>\n",
       "      <td>3.0</td>\n",
       "      <td>1954</td>\n",
       "    </tr>\n",
       "    <tr>\n",
       "      <th>1724601</th>\n",
       "      <td>Gates Watson</td>\n",
       "      <td>4.0</td>\n",
       "      <td>1956</td>\n",
       "    </tr>\n",
       "    <tr>\n",
       "      <th>1724602</th>\n",
       "      <td>John Prentice</td>\n",
       "      <td>2.0</td>\n",
       "      <td>1967</td>\n",
       "    </tr>\n",
       "    <tr>\n",
       "      <th>1724603</th>\n",
       "      <td>Virgil Tibbs</td>\n",
       "      <td>1.0</td>\n",
       "      <td>1967</td>\n",
       "    </tr>\n",
       "    <tr>\n",
       "      <th>1724604</th>\n",
       "      <td>Clyde Williams</td>\n",
       "      <td>1.0</td>\n",
       "      <td>1975</td>\n",
       "    </tr>\n",
       "    <tr>\n",
       "      <th>1724605</th>\n",
       "      <td>Homer Smith</td>\n",
       "      <td>1.0</td>\n",
       "      <td>1963</td>\n",
       "    </tr>\n",
       "    <tr>\n",
       "      <th>1724606</th>\n",
       "      <td>Roy Parmenter</td>\n",
       "      <td>1.0</td>\n",
       "      <td>1988</td>\n",
       "    </tr>\n",
       "    <tr>\n",
       "      <th>1724607</th>\n",
       "      <td>Dr. Luther Brooks</td>\n",
       "      <td>4.0</td>\n",
       "      <td>1950</td>\n",
       "    </tr>\n",
       "    <tr>\n",
       "      <th>1724608</th>\n",
       "      <td>Eddie Cook</td>\n",
       "      <td>3.0</td>\n",
       "      <td>1961</td>\n",
       "    </tr>\n",
       "    <tr>\n",
       "      <th>1724609</th>\n",
       "      <td>Porgy</td>\n",
       "      <td>1.0</td>\n",
       "      <td>1959</td>\n",
       "    </tr>\n",
       "    <tr>\n",
       "      <th>1724610</th>\n",
       "      <td>Doctor</td>\n",
       "      <td>1.0</td>\n",
       "      <td>1962</td>\n",
       "    </tr>\n",
       "    <tr>\n",
       "      <th>1724611</th>\n",
       "      <td>Robertson</td>\n",
       "      <td>5.0</td>\n",
       "      <td>1952</td>\n",
       "    </tr>\n",
       "    <tr>\n",
       "      <th>1724612</th>\n",
       "      <td>Night Club Extra</td>\n",
       "      <td>NaN</td>\n",
       "      <td>1947</td>\n",
       "    </tr>\n",
       "    <tr>\n",
       "      <th>1724613</th>\n",
       "      <td>Warren Stantin</td>\n",
       "      <td>1.0</td>\n",
       "      <td>1988</td>\n",
       "    </tr>\n",
       "    <tr>\n",
       "      <th>1724614</th>\n",
       "      <td>Donald Crease</td>\n",
       "      <td>4.0</td>\n",
       "      <td>1992</td>\n",
       "    </tr>\n",
       "    <tr>\n",
       "      <th>1724615</th>\n",
       "      <td>Kimani Wa Karanja</td>\n",
       "      <td>13.0</td>\n",
       "      <td>1957</td>\n",
       "    </tr>\n",
       "    <tr>\n",
       "      <th>1724616</th>\n",
       "      <td>Ben Munceford</td>\n",
       "      <td>2.0</td>\n",
       "      <td>1965</td>\n",
       "    </tr>\n",
       "    <tr>\n",
       "      <th>1724617</th>\n",
       "      <td>Noah Cullen</td>\n",
       "      <td>2.0</td>\n",
       "      <td>1958</td>\n",
       "    </tr>\n",
       "    <tr>\n",
       "      <th>1724618</th>\n",
       "      <td>Simon of Cyrene</td>\n",
       "      <td>21.0</td>\n",
       "      <td>1965</td>\n",
       "    </tr>\n",
       "    <tr>\n",
       "      <th>1724619</th>\n",
       "      <td>FBI Deputy Director Carter Preston</td>\n",
       "      <td>3.0</td>\n",
       "      <td>1997</td>\n",
       "    </tr>\n",
       "    <tr>\n",
       "      <th>1724620</th>\n",
       "      <td>Aly Mansuh</td>\n",
       "      <td>2.0</td>\n",
       "      <td>1964</td>\n",
       "    </tr>\n",
       "    <tr>\n",
       "      <th>1724621</th>\n",
       "      <td>Jason Higgs</td>\n",
       "      <td>1.0</td>\n",
       "      <td>1969</td>\n",
       "    </tr>\n",
       "    <tr>\n",
       "      <th>1724622</th>\n",
       "      <td>Obam</td>\n",
       "      <td>2.0</td>\n",
       "      <td>1957</td>\n",
       "    </tr>\n",
       "    <tr>\n",
       "      <th>1724623</th>\n",
       "      <td>Virgil Tibbs</td>\n",
       "      <td>1.0</td>\n",
       "      <td>1971</td>\n",
       "    </tr>\n",
       "    <tr>\n",
       "      <th>1724624</th>\n",
       "      <td>Alan Newell</td>\n",
       "      <td>1.0</td>\n",
       "      <td>1965</td>\n",
       "    </tr>\n",
       "    <tr>\n",
       "      <th>1724625</th>\n",
       "      <td>Shack Twala</td>\n",
       "      <td>1.0</td>\n",
       "      <td>1975</td>\n",
       "    </tr>\n",
       "    <tr>\n",
       "      <th>1724626</th>\n",
       "      <td>Virgil Tibbs</td>\n",
       "      <td>1.0</td>\n",
       "      <td>1970</td>\n",
       "    </tr>\n",
       "    <tr>\n",
       "      <th>1724627</th>\n",
       "      <td>Mark Thackeray</td>\n",
       "      <td>1.0</td>\n",
       "      <td>1967</td>\n",
       "    </tr>\n",
       "    <tr>\n",
       "      <th>1724628</th>\n",
       "      <td>Steve Jackson</td>\n",
       "      <td>1.0</td>\n",
       "      <td>1974</td>\n",
       "    </tr>\n",
       "    <tr>\n",
       "      <th>1724629</th>\n",
       "      <td>Marcus</td>\n",
       "      <td>3.0</td>\n",
       "      <td>1958</td>\n",
       "    </tr>\n",
       "  </tbody>\n",
       "</table>\n",
       "</div>"
      ],
      "text/plain": [
       "                                  character     n  year\n",
       "1724587                        Gordon Ralfe   1.0  1965\n",
       "1724588                       Manny Durrell   1.0  1977\n",
       "1724589                  Walter Lee Younger   1.0  1961\n",
       "1724590                    Dr. Matt Younger   1.0  1973\n",
       "1724591                   Sgt. Eddie Towler   2.0  1960\n",
       "1724592                              Rau-Ru   3.0  1957\n",
       "1724593                   Gregory W. Miller  10.0  1955\n",
       "1724594                           John Kane   1.0  1971\n",
       "1724595                                Buck   1.0  1972\n",
       "1724596                   Reverend Msimangu   3.0  1951\n",
       "1724597                              Toller   2.0  1966\n",
       "1724598                         Tommy Tyler   2.0  1957\n",
       "1724599                          Jack Parks   1.0  1968\n",
       "1724600                       Inman Jackson   3.0  1954\n",
       "1724601                        Gates Watson   4.0  1956\n",
       "1724602                       John Prentice   2.0  1967\n",
       "1724603                        Virgil Tibbs   1.0  1967\n",
       "1724604                      Clyde Williams   1.0  1975\n",
       "1724605                         Homer Smith   1.0  1963\n",
       "1724606                       Roy Parmenter   1.0  1988\n",
       "1724607                   Dr. Luther Brooks   4.0  1950\n",
       "1724608                          Eddie Cook   3.0  1961\n",
       "1724609                               Porgy   1.0  1959\n",
       "1724610                              Doctor   1.0  1962\n",
       "1724611                           Robertson   5.0  1952\n",
       "1724612                    Night Club Extra   NaN  1947\n",
       "1724613                      Warren Stantin   1.0  1988\n",
       "1724614                       Donald Crease   4.0  1992\n",
       "1724615                   Kimani Wa Karanja  13.0  1957\n",
       "1724616                       Ben Munceford   2.0  1965\n",
       "1724617                         Noah Cullen   2.0  1958\n",
       "1724618                     Simon of Cyrene  21.0  1965\n",
       "1724619  FBI Deputy Director Carter Preston   3.0  1997\n",
       "1724620                          Aly Mansuh   2.0  1964\n",
       "1724621                         Jason Higgs   1.0  1969\n",
       "1724622                                Obam   2.0  1957\n",
       "1724623                        Virgil Tibbs   1.0  1971\n",
       "1724624                         Alan Newell   1.0  1965\n",
       "1724625                         Shack Twala   1.0  1975\n",
       "1724626                        Virgil Tibbs   1.0  1970\n",
       "1724627                      Mark Thackeray   1.0  1967\n",
       "1724628                       Steve Jackson   1.0  1974\n",
       "1724629                              Marcus   3.0  1958"
      ]
     },
     "execution_count": 16,
     "metadata": {},
     "output_type": "execute_result"
    }
   ],
   "source": [
    "lst[['character','n','year']]"
   ]
  },
  {
   "cell_type": "markdown",
   "metadata": {
    "collapsed": true
   },
   "source": [
    "### How many leading (n=1) roles were available to actors, and how many to actresses, in the 1950s?\n",
    "- 1950년대에 배우가 몇 개의 주연(n=1)을 맡을 수 있었고 여배우가 몇 개 사용 가능했는가"
   ]
  },
  {
   "cell_type": "code",
   "execution_count": 33,
   "metadata": {},
   "outputs": [],
   "source": [
    "lst = cast[(cast.year //10 == 195) &(cast.n==1)]"
   ]
  },
  {
   "cell_type": "code",
   "execution_count": 34,
   "metadata": {},
   "outputs": [
    {
     "data": {
      "text/plain": [
       "9503"
      ]
     },
     "execution_count": 34,
     "metadata": {},
     "output_type": "execute_result"
    }
   ],
   "source": [
    "len(lst)"
   ]
  },
  {
   "cell_type": "markdown",
   "metadata": {
    "collapsed": true
   },
   "source": [
    "### How many supporting (n=2) roles were available to actors, and how many to actresses, in the 1950s?\n",
    "- 1950년대에 배우가 몇 개의 조연(n=2)을 맡았고 여배우가 몇 개의 조연을 맡았습니까?"
   ]
  },
  {
   "cell_type": "code",
   "execution_count": 35,
   "metadata": {},
   "outputs": [],
   "source": [
    "lst = cast[(cast.year // 10 ==195) &(cast.n==2)]"
   ]
  },
  {
   "cell_type": "code",
   "execution_count": 36,
   "metadata": {},
   "outputs": [
    {
     "data": {
      "text/plain": [
       "9047"
      ]
     },
     "execution_count": 36,
     "metadata": {},
     "output_type": "execute_result"
    }
   ],
   "source": [
    "len(lst)"
   ]
  }
 ],
 "metadata": {
  "kernelspec": {
   "display_name": "Python 3",
   "language": "python",
   "name": "python3"
  },
  "language_info": {
   "codemirror_mode": {
    "name": "ipython",
    "version": 3
   },
   "file_extension": ".py",
   "mimetype": "text/x-python",
   "name": "python",
   "nbconvert_exporter": "python",
   "pygments_lexer": "ipython3",
   "version": "3.8.3"
  },
  "toc": {
   "base_numbering": 1,
   "nav_menu": {},
   "number_sections": false,
   "sideBar": true,
   "skip_h1_title": false,
   "title_cell": "Table of Contents",
   "title_sidebar": "Contents",
   "toc_cell": false,
   "toc_position": {},
   "toc_section_display": true,
   "toc_window_display": false
  },
  "varInspector": {
   "cols": {
    "lenName": 16,
    "lenType": 16,
    "lenVar": 40
   },
   "kernels_config": {
    "python": {
     "delete_cmd_postfix": "",
     "delete_cmd_prefix": "del ",
     "library": "var_list.py",
     "varRefreshCmd": "print(var_dic_list())"
    },
    "r": {
     "delete_cmd_postfix": ") ",
     "delete_cmd_prefix": "rm(",
     "library": "var_list.r",
     "varRefreshCmd": "cat(var_dic_list()) "
    }
   },
   "types_to_exclude": [
    "module",
    "function",
    "builtin_function_or_method",
    "instance",
    "_Feature"
   ],
   "window_display": false
  }
 },
 "nbformat": 4,
 "nbformat_minor": 1
}
