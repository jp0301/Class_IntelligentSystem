{
 "cells": [
  {
   "cell_type": "markdown",
   "metadata": {},
   "source": [
    "# Project Object\n",
    "To tie it all together, let's build a simple command-line movie rental application. This is a fairly simple task, so we won't be experimenting with multiple packages. We will, however, see common usage of classes, functions, methods, and docstrings.\n",
    "\n",
    "<b>Let's start with a quick analysis:</b> \n",
    "\n",
    "- movies should be created with the Movie class to be rent. \n",
    "- Each movie should record the name and can have its genre. \n",
    "- User class will get the user name together with various methods to rent the movies. \n",
    "- Make all required methods to add and delete the movies together with the flag method to tag watching or not."
   ]
  },
  {
   "cell_type": "markdown",
   "metadata": {},
   "source": [
    "We will design an app named as 'Movie Rental System' which will be implemented with two classes, 'Movie' and 'User', together with the menu function to run this app. Let's make it."
   ]
  },
  {
   "cell_type": "markdown",
   "metadata": {},
   "source": [
    "`1`. Make a Movie class being initialized with 'name' and 'genre' parameters passing. (5 points)\n",
    "\n",
    "<b>Hint</b>\n",
    "> ```python\n",
    "> class Movie:\n",
    ">   def __init__(self, ??, ??): # The '__init__' should get 'name' and 'genre' parameters.\n",
    ">   # implement the initialization with two parameters.\n",
    ">   ...\n",
    ">   ...\n",
    "```"
   ]
  },
  {
   "cell_type": "code",
   "execution_count": 9,
   "metadata": {},
   "outputs": [],
   "source": [
    "class Movie:\n",
    "    def __init__(self, name, genre):\n",
    "        pass"
   ]
  },
  {
   "cell_type": "code",
   "execution_count": 10,
   "metadata": {},
   "outputs": [],
   "source": [
    "class Movie:\n",
    "    def __init__(self, name, genre):\n",
    "        self.name = name\n",
    "        self.genre = genre"
   ]
  },
  {
   "cell_type": "markdown",
   "metadata": {},
   "source": [
    "`2`. Let's test the Movie class whether the class is correctly made. Pass two parameters, movie name('The Matrix') and genre('Sci-Fi') to instantiate the Movie class with 'my_movie' instance name. (5 points)\n",
    "\n",
    "<b>Hint</b>\n",
    "> ```python\n",
    "> my_movie = Movie('??', '??')\n",
    ">\n",
    "> # print movie name and genre\n",
    "> print( ) # movie name\n",
    "> print( ) # movie genre\n",
    "> ```"
   ]
  },
  {
   "cell_type": "code",
   "execution_count": 11,
   "metadata": {},
   "outputs": [],
   "source": [
    "class Movie:\n",
    "    def __init__(self, name, genre):\n",
    "        self.name = name\n",
    "        self.genre = genre"
   ]
  },
  {
   "cell_type": "code",
   "execution_count": 13,
   "metadata": {},
   "outputs": [
    {
     "name": "stdout",
     "output_type": "stream",
     "text": [
      "The Matrix\n",
      "Sci-Fi\n"
     ]
    }
   ],
   "source": [
    "my_movie = Movie('The Matrix', 'Sci-Fi')\n",
    "print(my_movie.name)\n",
    "print(my_movie.genre)"
   ]
  },
  {
   "cell_type": "markdown",
   "metadata": {},
   "source": [
    "`3`. Make a 'User' class being initialized with just 'name' and empty movies list. (5 points)\n",
    "\n",
    "<b>Hint</b>\n",
    "> ```python\n",
    "class User:\n",
    "    def __init__(self, ??): # __init__ method should get 'name' parameter.\n",
    "        ??                  # initialze the name with 'name' parameter.\n",
    "        self.movies = ??    # empty movies list with a variable 'movies'\n",
    "```"
   ]
  },
  {
   "cell_type": "code",
   "execution_count": 15,
   "metadata": {},
   "outputs": [],
   "source": [
    "class User:\n",
    "    def __init(self, name):\n",
    "        self.name=name\n",
    "        self.movies=[]"
   ]
  },
  {
   "cell_type": "code",
   "execution_count": null,
   "metadata": {},
   "outputs": [],
   "source": []
  },
  {
   "cell_type": "markdown",
   "metadata": {},
   "source": [
    "`4`. Make 'User' instance with your english name and then print 'User' instance. (5 points)\n",
    "\n",
    "<b>Hint</b>\n",
    "> ```python\n",
    "user = User(' ??  ')\n",
    "print(user) # what is printed?\n",
    "```"
   ]
  },
  {
   "cell_type": "code",
   "execution_count": 16,
   "metadata": {},
   "outputs": [],
   "source": [
    "class Movie:\n",
    "    def __init__(self, name, genre):\n",
    "        self.name = name\n",
    "        self.genre = genre\n",
    "        \n",
    "# my_movie = Movie('The Matrix', 'Sci-Fi')\n",
    "# print(my_movie.name)\n",
    "# print(my_movie.genre)\n",
    "      \n",
    "class User:\n",
    "    def __init(self, name):\n",
    "        self.name=name\n",
    "        self.movies=[]"
   ]
  },
  {
   "cell_type": "code",
   "execution_count": 17,
   "metadata": {},
   "outputs": [
    {
     "ename": "TypeError",
     "evalue": "User() takes no arguments",
     "output_type": "error",
     "traceback": [
      "\u001b[1;31m---------------------------------------------------------------------------\u001b[0m",
      "\u001b[1;31mTypeError\u001b[0m                                 Traceback (most recent call last)",
      "\u001b[1;32m<ipython-input-17-6903bf1ee7c3>\u001b[0m in \u001b[0;36m<module>\u001b[1;34m\u001b[0m\n\u001b[1;32m----> 1\u001b[1;33m \u001b[0muser\u001b[0m \u001b[1;33m=\u001b[0m \u001b[0mUser\u001b[0m\u001b[1;33m(\u001b[0m\u001b[1;34m'The Matrix'\u001b[0m\u001b[1;33m)\u001b[0m\u001b[1;33m\u001b[0m\u001b[1;33m\u001b[0m\u001b[0m\n\u001b[0m\u001b[0;32m      2\u001b[0m \u001b[0mprint\u001b[0m\u001b[1;33m(\u001b[0m\u001b[0muser\u001b[0m\u001b[1;33m)\u001b[0m\u001b[1;33m\u001b[0m\u001b[1;33m\u001b[0m\u001b[0m\n",
      "\u001b[1;31mTypeError\u001b[0m: User() takes no arguments"
     ]
    }
   ],
   "source": [
    "user = User('The Matrix')\n",
    "print(user)"
   ]
  },
  {
   "cell_type": "markdown",
   "metadata": {},
   "source": [
    "`5`. 'print(user)' will show the memory address for the user instance. How to show the user instance clearly? Let's do this with `__repr__` method in the 'User' class. And then print again the 'user' instance. (5 points)\n",
    "\n",
    "<b>Hint</b>\n",
    "> ```python\n",
    "class User:\n",
    "    def __init__(??):\n",
    "        ...\n",
    "        ...\n",
    "    def __repr__(??):\n",
    "        return \"<User {}>\".??(?? )\n",
    ">        \n",
    "user = User('??')\n",
    "print(user)\n",
    "```"
   ]
  },
  {
   "cell_type": "code",
   "execution_count": null,
   "metadata": {
    "collapsed": true
   },
   "outputs": [],
   "source": []
  },
  {
   "cell_type": "code",
   "execution_count": null,
   "metadata": {
    "collapsed": true
   },
   "outputs": [],
   "source": []
  },
  {
   "cell_type": "markdown",
   "metadata": {},
   "source": [
    "`6`. 'my_movie' could be appended to the movies list and then print the movies list. (5 points)\n",
    "\n",
    "<b>Hint</b>\n",
    "> ```python\n",
    "> # app.py (app for menu)\n",
    "> # from movie import Movie\n",
    "> # from user import User\n",
    ">\n",
    "> user = User('User Name')\n",
    "> my_movie = Movie('Movie Name', 'Movie Genre')\n",
    "> # append movies list with user instance\n",
    "> user.movies.??(my_movie) # my movie instance is appended\n",
    "> print(user.name)   # will print the user name with __repr__.\n",
    "> print(user.movies) # will print the memory address of the movies list just being added\n",
    "```"
   ]
  },
  {
   "cell_type": "code",
   "execution_count": null,
   "metadata": {
    "collapsed": true
   },
   "outputs": [],
   "source": []
  },
  {
   "cell_type": "code",
   "execution_count": null,
   "metadata": {
    "collapsed": true
   },
   "outputs": [],
   "source": []
  },
  {
   "cell_type": "markdown",
   "metadata": {},
   "source": [
    "`7`. `__repr__` should be implemented into the 'Movie' class like the 'User' class. (5 points)\n",
    "\n",
    "<b>Hint</b>\n",
    "> ```python\n",
    "class Movie:\n",
    "    def __init__(self,   ??,  ??):\n",
    "        ...\n",
    "        ...\n",
    ">    \n",
    "    def __repr__(self):\n",
    "        return \"<Movie {}, {}\"._??____(??   , ??   )\n",
    "```"
   ]
  },
  {
   "cell_type": "code",
   "execution_count": null,
   "metadata": {
    "collapsed": true
   },
   "outputs": [],
   "source": []
  },
  {
   "cell_type": "code",
   "execution_count": null,
   "metadata": {
    "collapsed": true
   },
   "outputs": [],
   "source": []
  },
  {
   "cell_type": "markdown",
   "metadata": {},
   "source": [
    "`8`. Let's add a initialization parameter 'watched' as boolean in the 'Movie' class. (5 points)\n",
    "\n",
    "<b>Hint</b>\n",
    "> ```python\n",
    "class Movie:\n",
    "    def __init__(self,   ??,   ??,  ??): # add boolean 'watched' parameter\n",
    "        ??\n",
    "        ??\n",
    "        ??\n",
    ">    \n",
    "    def __repr__(self)\n",
    "        ...\n",
    "```"
   ]
  },
  {
   "cell_type": "code",
   "execution_count": null,
   "metadata": {
    "collapsed": true
   },
   "outputs": [],
   "source": []
  },
  {
   "cell_type": "code",
   "execution_count": null,
   "metadata": {
    "collapsed": true
   },
   "outputs": [],
   "source": []
  },
  {
   "cell_type": "markdown",
   "metadata": {},
   "source": [
    "`9`. Let's add 'watched_movies' function in the 'User' class. (5 points)\n",
    "\n",
    "<b>Hint</b>\n",
    "> ```python\n",
    "> class User:\n",
    ">    def __init__(self,  ):\n",
    "         ...\n",
    "         ...\n",
    ">    def __repr__(self):\n",
    "         ...\n",
    "```\n",
    "\n",
    "> ```python\n",
    ">    # implement the 'watched_movies' function.\n",
    ">    def watched_movies(self):\n",
    ">    # Calculate a list of movies that have been watched\n",
    ">    # You may want to initialize an empty list\n",
    ">    # Then iterate over self.movies\n",
    ">    # If the movie.wached is true, add it to the list\n",
    ">    # Return the list\n",
    ">    # there are two ways fot this implementation.\n",
    ">    # first.\n",
    ">         watched_movies_list = []\n",
    ">         for movie in ________:\n",
    ">              if movie.________:\n",
    ">                    watched_movies_list._______(movie)\n",
    ">              return watched_movies_list\n",
    "               ...\n",
    "```"
   ]
  },
  {
   "cell_type": "code",
   "execution_count": null,
   "metadata": {
    "collapsed": true
   },
   "outputs": [],
   "source": []
  },
  {
   "cell_type": "code",
   "execution_count": null,
   "metadata": {
    "collapsed": true
   },
   "outputs": [],
   "source": []
  },
  {
   "cell_type": "markdown",
   "metadata": {},
   "source": [
    "`10`. Add the boolean 'watched' value and then print watched_movies of user instance. (5 points)\n",
    "\n",
    "<b>Hint</b>\n",
    "> ```python\n",
    "> user = User('Your Name') # to make 'User' instance\n",
    "> my_movie = Movie(\"The Matrix\", \"Sci-Fi\", ________) # 'True' or 'False' value for the 'watched' parameter. Try to do this with both booleans.\n",
    "> # append movies list with user instance\n",
    "> user.movies.___________(my_movie)\n",
    "> print(user.watched_movies())\n",
    "```"
   ]
  },
  {
   "cell_type": "code",
   "execution_count": null,
   "metadata": {
    "collapsed": true
   },
   "outputs": [],
   "source": []
  },
  {
   "cell_type": "code",
   "execution_count": null,
   "metadata": {
    "collapsed": true
   },
   "outputs": [],
   "source": []
  },
  {
   "cell_type": "markdown",
   "metadata": {},
   "source": [
    "`11`. Let's implement the 'watched_movie' in the 'User' class with a second way. It can be with filter and lambda python built-in function. (5 points)\n",
    "\n",
    "<b>Hint</b>\n",
    "> ```python\n",
    "class User: # Class name is the 'User'\n",
    ">   def __init__(self, name):\n",
    ">       self.name = name\n",
    ">       self.movies = [] # empty movies list with a variable 'movies'\n",
    ">   def __repr__(self):\n",
    ">       return \"<User {}>\".format(self.name)\n",
    ">   def watched_movies(self):\n",
    ">       # Second way to implement it easily with 'filter, lambda and list method'\n",
    ">       movies_watched = list(________(_______ movie : movie.watched, self.movies))\n",
    ">      return movies_watched\n",
    "```"
   ]
  },
  {
   "cell_type": "code",
   "execution_count": null,
   "metadata": {
    "collapsed": true
   },
   "outputs": [],
   "source": []
  },
  {
   "cell_type": "code",
   "execution_count": null,
   "metadata": {
    "collapsed": true
   },
   "outputs": [],
   "source": []
  },
  {
   "cell_type": "markdown",
   "metadata": {},
   "source": [
    "`12`. Let's add the 'add_movie' function in the 'User' class to add movies. (5 points)\n",
    "\n",
    "<b>Hint</b>\n",
    "> ```python\n",
    "> class User: # Class name is the 'User'\n",
    ">   def __init__(self, ______):\n",
    ">        ...\n",
    ">        ...    # empty movies list with a variable 'movies'\n",
    ">   def __repr__(self):\n",
    ">        return \"<User {}>\".________(self.name)\n",
    ">  def add_movie(self, _________, ________): # pass 'name' and 'watched' parameter.\n",
    ">  movie = Movie(______, ________, _________)     # make 'Movie' instance with passing three parameters. \n",
    ">  self.movies._________(movie)\n",
    ">   # simplified watched_movies method\n",
    ">   def watched_movies(self):\n",
    ">   # Second way to implement it easily with 'filter method'\n",
    ">   return list(_________(_________ movie : movie.watched, self.movies)) # list will get the movies list.\n",
    "```"
   ]
  },
  {
   "cell_type": "code",
   "execution_count": null,
   "metadata": {
    "collapsed": true
   },
   "outputs": [],
   "source": []
  },
  {
   "cell_type": "code",
   "execution_count": null,
   "metadata": {
    "collapsed": true
   },
   "outputs": [],
   "source": []
  },
  {
   "cell_type": "markdown",
   "metadata": {},
   "source": [
    "`13`. Let's add the 'delete_movie' function in the 'User' class to delete movies with list/filter/lambda built-in functions. (5 points)\n",
    "\n",
    "<b>Hint</b>\n",
    "> ```python\n",
    "> class User: # Class name is the 'User'\n",
    ">      def __init__(self, ________):\n",
    ">            ...\n",
    ">            ...\n",
    ">     def __repr__(self):\n",
    "              return \"<User {}>\".__________(self.name)\n",
    ">     def add_movie(self, ___________, __________): # my_user_object.add_movie()\n",
    "              movie = Movie(__________, __________, ____________)\n",
    "              self.movies.__________(movie)\n",
    ">     # Let's detete movies not existed in the movies list.    \n",
    ">     def delete_movie(self, ___________):\n",
    ">            self.movies = _________(__________(__________ movie : movie.name != name, self.movies))\n",
    ">     # simplified watched_movies method\n",
    ">     def watched_movies(self):\n",
    ">     # Second way to implement it easily with 'filter method'\n",
    ">          return _________(__________(___________ movie : movie.watched, self.movies)) # list will get the movies list.\n",
    "```"
   ]
  },
  {
   "cell_type": "code",
   "execution_count": null,
   "metadata": {
    "collapsed": true
   },
   "outputs": [],
   "source": []
  },
  {
   "cell_type": "code",
   "execution_count": null,
   "metadata": {
    "collapsed": true
   },
   "outputs": [],
   "source": []
  },
  {
   "cell_type": "markdown",
   "metadata": {},
   "source": [
    "`14`. Let's add the 'save_to_file' function in the 'User' class to save movies list regarding the user name. (10 points)\n",
    "\n",
    "<b>Hint</b>\n",
    "> ```python\n",
    "> class User: # Class name is the 'User'\n",
    ">    def __init__(self, name):\n",
    ">        ...\n",
    ">        \n",
    ">    def __repr__(self):\n",
    ">        ...\n",
    ">    \n",
    ">    def add_movie(self, name, genre): # my_user_object.add_movie()\n",
    ">        ...\n",
    ">        \n",
    ">    # Let's detete movies not existed in the movies list.    \n",
    ">    def delete_movie(self, name):\n",
    ">        ...\n",
    ">        \n",
    ">    # simplified watched_movies method\n",
    ">    def watched_movies(self):\n",
    ">        ...\n",
    ">    \n",
    ">    # save to file with csv format\n",
    ">    def save_to_file(self):\n",
    ">        with _______(\"{}.txt\"._______(self.name), 'w') as f:\n",
    ">            f.write(self.name + \"\\n\")\n",
    ">            for movie in _____________:\n",
    ">                f.write(\"{},{},{}\\n\".___________(movie.name, movie.genre, _________(movie.watched)))\n",
    "```            "
   ]
  },
  {
   "cell_type": "code",
   "execution_count": null,
   "metadata": {
    "collapsed": true
   },
   "outputs": [],
   "source": []
  },
  {
   "cell_type": "code",
   "execution_count": null,
   "metadata": {
    "collapsed": true
   },
   "outputs": [],
   "source": []
  },
  {
   "cell_type": "markdown",
   "metadata": {},
   "source": [
    "`15`. Let's test the 'save_to_file' implemented in the 'User' class. Add movies with 'add_movie' function and save the list into the file. (5 points)\n",
    "\n",
    "<b>Hint</b>\n",
    "> ```python\n",
    "> user = User(\"__________\")\n",
    "> user.add_movie(\"Movie Name\", \"Genre\") # first movie\n",
    "> user.add_movie(\"Movie Name\", \"Genre\") # second movie\n",
    "> user.save_to_file()\n",
    "```"
   ]
  },
  {
   "cell_type": "code",
   "execution_count": null,
   "metadata": {
    "collapsed": true
   },
   "outputs": [],
   "source": []
  },
  {
   "cell_type": "code",
   "execution_count": null,
   "metadata": {
    "collapsed": true
   },
   "outputs": [],
   "source": []
  },
  {
   "cell_type": "markdown",
   "metadata": {},
   "source": [
    "`16`. Let's make 'load_from_file' function in the 'User' class to load the user data from the saved file. (10 points)\n",
    "\n",
    "<b>Hint</b>\n",
    "> ```python\n",
    ">class User: # Class name is the 'User'\n",
    ">    def __init__(self, name):\n",
    ">        ...\n",
    ">\n",
    ">    def __repr__(self):\n",
    ">        ...\n",
    ">\n",
    ">    def add_movie(self, name, genre): # my_user_object.add_movie()\n",
    ">        ...\n",
    ">\n",
    ">    # Let's detete movies not existed in the movies list.    \n",
    ">    def delete_movie(self, name):\n",
    ">        ...\n",
    ">\n",
    ">    # simplified watched_movies method\n",
    ">    def watched_movies(self):\n",
    ">        ...\n",
    ">\n",
    ">    # save to file with csv format\n",
    ">    def save_to_file(self):\n",
    ">        ...\n",
    ">    \n",
    ">    # load the file to get the user name and movies list\n",
    ">    def load_from_file(self, filename):\n",
    ">        with _______(filename, 'r') as f:\n",
    ">            content = f.readlines()\n",
    ">            username = content[?]\n",
    ">            movies = []\n",
    ">            for line in content[?]:\n",
    ">                movie_data = line.split(?)\n",
    ">                movies.append(Movie(movie_data[?], movie_data[?], movie_data[?] == '?'))\n",
    ">                \n",
    ">            user = User(?)\n",
    ">            user.movies = ?\n",
    ">            \n",
    ">            retrun ?\n",
    "```\n",
    "            "
   ]
  },
  {
   "cell_type": "code",
   "execution_count": null,
   "metadata": {
    "collapsed": true
   },
   "outputs": [],
   "source": []
  },
  {
   "cell_type": "code",
   "execution_count": null,
   "metadata": {
    "collapsed": true
   },
   "outputs": [],
   "source": []
  },
  {
   "cell_type": "markdown",
   "metadata": {},
   "source": [
    "`17`. Let's test the 'load_from_file' implemented in the 'User' class whether it's fine to work. (5 points)\n",
    "\n",
    "<b>Hint</b>\n",
    "> ```python\n",
    "> user = User(\"?\")\n",
    ">\n",
    "> user = user.load_from_file(\"?\") # you should load the saved file. Before doing this, you should know what file is saved in the current directory.\n",
    "> print(user.name)\n",
    "> print(user.movies)\n",
    "```"
   ]
  },
  {
   "cell_type": "code",
   "execution_count": null,
   "metadata": {
    "collapsed": true
   },
   "outputs": [],
   "source": []
  },
  {
   "cell_type": "code",
   "execution_count": null,
   "metadata": {
    "collapsed": true
   },
   "outputs": [],
   "source": []
  },
  {
   "cell_type": "markdown",
   "metadata": {},
   "source": [
    "`18`. We want intantiate the Class directly to call the class function without the pre-instantiation. How to do it in 'load_from_file' for the below test code? (10 points)\n",
    "\n",
    "<b>Hint</b>\n",
    "> ```python\n",
    "> # test code\n",
    "> # User.load_from_file is directly called.\n",
    "> user = User.load_from_file(\"Jose.txt\") # It could be instantiated directly with class method.\n",
    "> print(user.name)\n",
    "> print(user.movies)\n",
    "> # User Class\n",
    "> class User: # Class name is the 'User'\n",
    ">    def __init__(self, name):\n",
    ">        ...\n",
    ">\n",
    ">    def __repr__(self):\n",
    ">        ...\n",
    ">\n",
    ">    def add_movie(self, name, genre): # my_user_object.add_movie()\n",
    ">        ...\n",
    ">\n",
    ">    # Let's detete movies not existed in the movies list.    \n",
    ">    def delete_movie(self, name):\n",
    ">        ...\n",
    ">\n",
    ">    # simplified watched_movies method\n",
    ">    def watched_movies(self):\n",
    ">        ...\n",
    ">\n",
    ">    # save to file with csv format\n",
    ">    def save_to_file(self):\n",
    ">        ...\n",
    ">\n",
    ">    # load the file to get the user name and movies list\n",
    ">    @???????????\n",
    ">    def load_from_file(? filename):\n",
    ">        with _______(filename, 'r') as f:\n",
    ">            content = f.readlines()\n",
    ">            username = content[?]\n",
    ">            movies = []\n",
    ">            for line in content[?]:\n",
    ">                movie_data = line.split(?)\n",
    ">                movies.append(Movie(movie_data[?], movie_data[?], movie_data[?] == '?'))\n",
    ">\n",
    ">            user = ?(?)\n",
    ">            user.movies = ?\n",
    ">\n",
    ">            retrun ?\n",
    "```"
   ]
  },
  {
   "cell_type": "code",
   "execution_count": null,
   "metadata": {
    "collapsed": true
   },
   "outputs": [],
   "source": []
  },
  {
   "cell_type": "code",
   "execution_count": null,
   "metadata": {
    "collapsed": true
   },
   "outputs": [],
   "source": []
  },
  {
   "cell_type": "markdown",
   "metadata": {},
   "source": [
    "`19`. We want to save and load the file with JSON format so that 'save_to_file' and 'load_from_file' should be deleted and replaced with 'json' function which should be designed in the 'Movie' and 'User' classes, respectively. (10 points)\n",
    "\n",
    "<b>Hint</b>\n",
    "> ```python\n",
    "> # movie.py (Moive Class)\n",
    ">\n",
    "> class Movie: # Class name is the 'Movie'\n",
    ">    def __init__(?, ?, ?, ?): # The boolean watched variable is added to filter the movie list.\n",
    ">        ...\n",
    ">        ...\n",
    ">        ...\n",
    ">        \n",
    ">    def __repr__(?):\n",
    ">        ...\n",
    ">        \n",
    ">    # for the generation of json file format regarding movies list\n",
    ">    def json(self):\n",
    ">        return {\n",
    ">            'name': self.?,\n",
    ">            'genre': self.?,\n",
    ">            'watched': self.?\n",
    ">        }\n",
    ">\n",
    ">\n",
    "># user.py (User Class)\n",
    ">\n",
    "> class User: # Class name is the 'User'\n",
    ">    def __init__(?, ?):\n",
    ">        ...\n",
    ">        \n",
    ">    def __repr__(self):\n",
    ">        ...\n",
    ">        \n",
    ">    def add_movie(self, ?, ?): # my_user_object.add_movie()\n",
    ">        ...\n",
    ">        \n",
    ">    # Let's detete movies not existed in the movies list.    \n",
    ">    def delete_movie(self, ?):\n",
    ">        ...\n",
    ">        \n",
    ">    # simplified watched_movies method\n",
    ">    def watched_movies(self):\n",
    ">        # Second way to implement it easily with 'filter method'\n",
    ">        ...\n",
    ">        \n",
    ">    # load the data from JSON format.    \n",
    ">    def json(self):\n",
    ">        return {\n",
    ">            'name': ??,\n",
    ">            'movies': [\n",
    ">             movie.??? for movie in ??\n",
    ">            ]\n",
    ">        }\n",
    "```"
   ]
  },
  {
   "cell_type": "code",
   "execution_count": null,
   "metadata": {
    "collapsed": true
   },
   "outputs": [],
   "source": []
  },
  {
   "cell_type": "code",
   "execution_count": null,
   "metadata": {
    "collapsed": true
   },
   "outputs": [],
   "source": []
  },
  {
   "cell_type": "markdown",
   "metadata": {},
   "source": [
    "`20`. Let's check it whether your design is corretly done with json format. Run the below Hint code. (5 points)\n",
    "\n",
    "<b>Hint</b>\n",
    "> ```python\n",
    "># app.py\n",
    "># from movie import Movie\n",
    "># from user import User\n",
    ">\n",
    ">user = User(\"Jose\")\n",
    ">\n",
    ">user.add_movie(\"The Matrix\", \"Sci-Fi\")\n",
    ">user.add_movie(\"The Interview\", \"Comedy\")\n",
    ">\n",
    ">print(user.json())\n",
    "```"
   ]
  },
  {
   "cell_type": "code",
   "execution_count": null,
   "metadata": {
    "collapsed": true
   },
   "outputs": [],
   "source": []
  },
  {
   "cell_type": "code",
   "execution_count": null,
   "metadata": {
    "collapsed": true
   },
   "outputs": [],
   "source": []
  },
  {
   "cell_type": "markdown",
   "metadata": {},
   "source": [
    "`21`. We want to dump the file as json format. Let's do this in the app. Complete the Hint code. (5 points)\n",
    "\n",
    "<b>Hint</b>\n",
    "> ```python\n",
    "># json should be imported\n",
    ">import json\n",
    ">\n",
    ">user = User(\"Jose\")\n",
    ">\n",
    ">user.add_movie(\"The Matrix\", \"Sci-Fi\")\n",
    ">user.add_movie(\"The Interview\", \"Comedy\")\n",
    ">\n",
    ">#print(user.json())\n",
    ">with ??('my_file.txt', 'w') as f:\n",
    ">    json.??(user.??, f)\n",
    "```"
   ]
  },
  {
   "cell_type": "code",
   "execution_count": null,
   "metadata": {
    "collapsed": true
   },
   "outputs": [],
   "source": []
  },
  {
   "cell_type": "code",
   "execution_count": null,
   "metadata": {
    "collapsed": true
   },
   "outputs": [],
   "source": []
  },
  {
   "cell_type": "markdown",
   "metadata": {},
   "source": [
    "`22`. We want to load the data from the json file. Complete the 'from_json' function code in the below 'User' class. (10 points)\n",
    "\n",
    "<b>Hint</b>\n",
    "> ```python\n",
    "># user.py (User Class)\n",
    "># Let's save the user's information of the movies list into the file with json format.\n",
    "># from movie import Movie\n",
    ">\n",
    ">class User: # Class name is the 'User'\n",
    ">    def __init__(self, name):\n",
    ">        ...\n",
    ">        \n",
    ">    def __repr__(self):\n",
    ">        ...\n",
    ">        \n",
    ">    def add_movie(self, name, genre): # my_user_object.add_movie()\n",
    ">        ...\n",
    ">        \n",
    ">    # Let's detete movies not existed in the movies list.    \n",
    ">    def delete_movie(self, name):\n",
    ">        ...\n",
    ">        \n",
    ">    # simplified watched_movies method\n",
    ">    def watched_movies(self):\n",
    ">        ...\n",
    ">        \n",
    ">    def json(self):\n",
    ">        ...\n",
    ">    \n",
    ">    @??\n",
    ">    def from_json(??, json_data):\n",
    ">        user = User(json_data['??'])\n",
    ">        movies = []\n",
    ">        \n",
    ">        for movie in json_data['??']:\n",
    ">            movies.??(Movie(movie['??'], movie['??'], movie['??']))\n",
    ">        \n",
    ">        user.movies = movies\n",
    ">        \n",
    ">        return user\n",
    "```"
   ]
  },
  {
   "cell_type": "code",
   "execution_count": null,
   "metadata": {
    "collapsed": true
   },
   "outputs": [],
   "source": []
  },
  {
   "cell_type": "code",
   "execution_count": null,
   "metadata": {
    "collapsed": true
   },
   "outputs": [],
   "source": []
  },
  {
   "cell_type": "markdown",
   "metadata": {},
   "source": [
    "`23`. Let's test the 'from_json' function in the User class. Complete the app code and then run it. (5 points)\n",
    "\n",
    "<b>Hint</b>\n",
    "> ```python\n",
    "># app.py\n",
    "># from movie import Movie\n",
    "># from user import User\n",
    ">\n",
    ">import json\n",
    ">\n",
    ">#print(user.json())\n",
    ">with ??('my_file.txt', 'r') as f:\n",
    ">    json_data = json.??(f)\n",
    ">    user = User.from_json(json_data)\n",
    ">    print(user.??)\n",
    "```"
   ]
  },
  {
   "cell_type": "code",
   "execution_count": null,
   "metadata": {
    "collapsed": true
   },
   "outputs": [],
   "source": []
  },
  {
   "cell_type": "code",
   "execution_count": null,
   "metadata": {
    "collapsed": true
   },
   "outputs": [],
   "source": []
  },
  {
   "cell_type": "markdown",
   "metadata": {},
   "source": [
    "`24`. For more readable design, we want to design the function to load the json data. Complete the Hint code for 'Movie' and 'User' classes, repectively. (10 points)\n",
    "\n",
    "<b>Hint</b>\n",
    "> ```python\n",
    "># movie.py (Movie Class)\n",
    ">\n",
    ">class Movie: # Class name is the 'Movie'\n",
    ">    def __init__(): # The boolean watched variable is added to filter the movie list.\n",
    ">        ...\n",
    ">           \n",
    ">    def __repr__():\n",
    ">        ...\n",
    ">        \n",
    ">    # for the generation of json file format regarding movies list\n",
    ">    def json(self):\n",
    ">        ...\n",
    ">        \n",
    ">    @??\n",
    ">    def from_json(cls, json_data):\n",
    ">        return Movie(json_data[??], json_data[??], json_data[??])\n",
    ">\n",
    "># user.py (User Class)\n",
    "># from movie import Movie\n",
    ">\n",
    ">class User: # Class name is the 'User'\n",
    ">    def __init__(self, name):\n",
    ">        ...\n",
    ">        \n",
    ">    def __repr__(self):\n",
    ">        ...\n",
    ">        \n",
    ">    def add_movie(self, name, genre): # my_user_object.add_movie()\n",
    ">        ...\n",
    ">        \n",
    ">    # Let's detete movies not existed in the movies list.    \n",
    ">    def delete_movie(self, name):\n",
    ">        ...\n",
    ">        \n",
    ">    # simplified watched_movies method\n",
    ">    def watched_movies(self):\n",
    ">        ...\n",
    ">        \n",
    ">    def json(self):\n",
    ">        ...\n",
    ">    \n",
    ">    @??\n",
    ">    def from_json(cls, json_data):\n",
    ">        user = User(json_data['??'])\n",
    ">        movies = []\n",
    ">        \n",
    ">        for movie_data in json_data['??']:\n",
    ">            movies.append(Movie.??(??))\n",
    ">        \n",
    ">        user.movies = movies\n",
    ">        \n",
    ">        return user\n",
    "```"
   ]
  },
  {
   "cell_type": "code",
   "execution_count": null,
   "metadata": {
    "collapsed": true
   },
   "outputs": [],
   "source": []
  },
  {
   "cell_type": "code",
   "execution_count": null,
   "metadata": {
    "collapsed": true
   },
   "outputs": [],
   "source": []
  },
  {
   "cell_type": "markdown",
   "metadata": {},
   "source": [
    "`25`. Let's design 'set_watched' in the 'User' class to set the movie watched. Complete the Hint code. (5 points)\n",
    "\n",
    "<b>Hint</b>\n",
    "> ```python\n",
    "># user.py (User Class)\n",
    "># Let's save the user's information of the movies list into the file with json format.\n",
    "># from movie import Movie\n",
    ">\n",
    ">class User: # Class name is the 'User'\n",
    ">    def __init__():\n",
    ">        ...\n",
    ">        \n",
    ">    def __repr__():\n",
    ">        ...\n",
    ">        \n",
    ">    def add_movie(): # my_user_object.add_movie()\n",
    ">        ...\n",
    ">        \n",
    ">    # Let's detete movies not existed in the movies list.    \n",
    ">    def delete_movie():\n",
    ">        ...\n",
    ">        \n",
    ">    # simplified watched_movies method\n",
    ">    def watched_movies():\n",
    ">        ...\n",
    ">        \n",
    ">    def set_watched(self, name):\n",
    ">        for movie in self.movies:\n",
    ">            if movie.name == ??:\n",
    ">                movie.watched = ??\n",
    ">            \n",
    ">    def json():\n",
    ">        ...\n",
    ">    \n",
    ">    @??\n",
    ">    def from_json():\n",
    ">        ...\n",
    "```"
   ]
  },
  {
   "cell_type": "code",
   "execution_count": null,
   "metadata": {
    "collapsed": true
   },
   "outputs": [],
   "source": []
  },
  {
   "cell_type": "code",
   "execution_count": null,
   "metadata": {
    "collapsed": true
   },
   "outputs": [],
   "source": []
  },
  {
   "cell_type": "markdown",
   "metadata": {},
   "source": [
    "`26`. We will design the menu for what to do from user inputs. Let's just run the below code and see what functions should be designed based on the comments. (No points but just run it)\n",
    "\n",
    "<b>Hint</b>\n",
    "> ```python\n",
    "># app.py (app for menu), finalizing this.\n",
    "># from movie import Movie\n",
    "># from user import User\n",
    ">\n",
    ">import json\n",
    ">import os\n",
    ">\n",
    ">def menu():\n",
    ">    # Ask for the user's name\n",
    ">    # Check if a file exists for that user.\n",
    ">    # If it already exists, welcome them and load their data.\n",
    ">    # If not, create a User object.\n",
    ">    \n",
    ">    # Give them a list of options:\n",
    ">        # - Add a movie\n",
    ">        # - See list of movie\n",
    ">            # . Set a movie as watched\n",
    ">            # . Detete a movie by name\n",
    ">        # - See list of watched movies\n",
    ">        # Save and Quit\n",
    ">    pass\n",
    ">\n",
    ">menu()\n",
    "```"
   ]
  },
  {
   "cell_type": "code",
   "execution_count": null,
   "metadata": {
    "collapsed": true
   },
   "outputs": [],
   "source": []
  },
  {
   "cell_type": "code",
   "execution_count": null,
   "metadata": {
    "collapsed": true
   },
   "outputs": [],
   "source": []
  },
  {
   "cell_type": "markdown",
   "metadata": {},
   "source": [
    "`27`. Complete the menu code (25 points) and then run all (25 points) together with 'Movie' and 'User' class. (Total 50 points)\n",
    "\n",
    "<b>Hint</b>\n",
    "> ```python\n",
    "># app.py (app for menu), finalizing this.\n",
    "># from movie import Movie\n",
    "># from user import User\n",
    ">\n",
    ">import json\n",
    ">import os\n",
    ">\n",
    ">def file_exists(filename):\n",
    ">    return os.path.isfile(filename)\n",
    ">\n",
    ">def menu():\n",
    ">    # Ask for the user's name\n",
    ">    name = input(\"Enter your name: \")\n",
    ">    \n",
    ">    # Check if a file exists for that user.\n",
    ">    # If it already exists, welcome them and load their data.\n",
    ">    filename = \"{}.txt\".format(name)\n",
    ">    if file_exists(filename):\n",
    ">        with ??(filename, 'r') as f:\n",
    ">            json_data = json.??(f)\n",
    ">        \n",
    ">        user = User.??(??)\n",
    ">        \n",
    ">    # If not, create a User object.\n",
    ">    else:\n",
    ">        user = User(name)\n",
    ">        \n",
    ">    # Give them a list of options:\n",
    ">        # - Add a movie\n",
    ">        # - See list of movie\n",
    ">            # . Set a movie as watched\n",
    ">            # . Detete a movie by name\n",
    ">        # - See list of watched movies\n",
    ">        # Save and Quit\n",
    ">    user_input = input(\"Enter 'a' to add a moive, 's' to see the list of movies,\"\n",
    ">         \"'w' to set a movie as watched, 'd' to delete a movie, 'l' to see the list of watched movies,\"\n",
    ">         \"'f' to save to a file and 'q' to quit\")\n",
    ">    \n",
    ">    while user_input != 'q':\n",
    ">        if user_input == 'a':\n",
    ">            movie_name = input(\"Enter the movie name: \")\n",
    ">            movie_genre = input(\"Enter the movie genre: \")\n",
    ">            user.??(??, ??)\n",
    ">    \n",
    ">        elif user_input == 's':\n",
    ">            for movie in ??:\n",
    ">                print(\"Name: {}, Genre: {}, Watched: {}\".format(movie.name, movie.genre, movie.watched))\n",
    ">    \n",
    ">        elif user_input == 'w':\n",
    ">            movie_name = input(\"Enter the movie name to set as watched: \")\n",
    ">            user.??(??)\n",
    ">        \n",
    ">        elif user_input == 'd':\n",
    ">            movie_name = input(\"Enter the movie name to delete: \")\n",
    ">            user.??(??)\n",
    ">    \n",
    ">        elif user_input == 'l':\n",
    ">            for movie in user.??():\n",
    ">                print(\"Name: {}, Genre: {}, Watched: {}\".format(movie.name, movie.genre, movie.watched))\n",
    ">        \n",
    ">        elif user_input == 'f':\n",
    ">            with ??(filename, 'w') as f:\n",
    ">                json.??(user.??, f)\n",
    ">               \n",
    ">        user_input = input(\"Enter 'a' to add a moive, 's' to see the list of movies,\"\n",
    ">                           \"'w' to set a movie as watched, 'd' to delete a movie, 'l' to see the list of watched movies,\"\n",
    ">                           \"'f' to save to a file and 'q' to quit\")\n",
    ">\n",
    ">menu()\n",
    "```"
   ]
  },
  {
   "cell_type": "code",
   "execution_count": null,
   "metadata": {},
   "outputs": [],
   "source": []
  }
 ],
 "metadata": {
  "kernelspec": {
   "display_name": "Python 3",
   "language": "python",
   "name": "python3"
  },
  "language_info": {
   "codemirror_mode": {
    "name": "ipython",
    "version": 3
   },
   "file_extension": ".py",
   "mimetype": "text/x-python",
   "name": "python",
   "nbconvert_exporter": "python",
   "pygments_lexer": "ipython3",
   "version": "3.8.3"
  },
  "toc": {
   "base_numbering": 1,
   "nav_menu": {},
   "number_sections": true,
   "sideBar": true,
   "skip_h1_title": false,
   "title_cell": "Table of Contents",
   "title_sidebar": "Contents",
   "toc_cell": false,
   "toc_position": {},
   "toc_section_display": true,
   "toc_window_display": false
  },
  "varInspector": {
   "cols": {
    "lenName": 16,
    "lenType": 16,
    "lenVar": 40
   },
   "kernels_config": {
    "python": {
     "delete_cmd_postfix": "",
     "delete_cmd_prefix": "del ",
     "library": "var_list.py",
     "varRefreshCmd": "print(var_dic_list())"
    },
    "r": {
     "delete_cmd_postfix": ") ",
     "delete_cmd_prefix": "rm(",
     "library": "var_list.r",
     "varRefreshCmd": "cat(var_dic_list()) "
    }
   },
   "types_to_exclude": [
    "module",
    "function",
    "builtin_function_or_method",
    "instance",
    "_Feature"
   ],
   "window_display": false
  }
 },
 "nbformat": 4,
 "nbformat_minor": 1
}
